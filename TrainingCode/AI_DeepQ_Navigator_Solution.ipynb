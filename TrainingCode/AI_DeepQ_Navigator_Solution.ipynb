{
 "cells": [
  {
   "cell_type": "markdown",
   "metadata": {},
   "source": [
    "# Navigation\n",
    "\n",
    "---\n",
    "\n",
    "You are welcome to use this coding environment to train your agent for the project.  Follow the instructions below to get started!\n",
    "\n",
    "### 1. Start the Environment\n",
    "\n",
    "Run the next code cell to install a few packages.  This line will take a few minutes to run!"
   ]
  },
  {
   "cell_type": "code",
   "execution_count": 1,
   "metadata": {},
   "outputs": [
    {
     "name": "stdout",
     "output_type": "stream",
     "text": [
      "\u001b[31mtensorflow 1.7.1 has requirement numpy>=1.13.3, but you'll have numpy 1.12.1 which is incompatible.\u001b[0m\r\n",
      "\u001b[31mipython 6.5.0 has requirement prompt-toolkit<2.0.0,>=1.0.15, but you'll have prompt-toolkit 3.0.5 which is incompatible.\u001b[0m\r\n"
     ]
    }
   ],
   "source": [
    "!pip -q install ./python"
   ]
  },
  {
   "cell_type": "markdown",
   "metadata": {},
   "source": [
    "The environment is already saved in the Workspace and can be accessed at the file path provided below.  Please run the next code cell without making any changes."
   ]
  },
  {
   "cell_type": "code",
   "execution_count": 2,
   "metadata": {},
   "outputs": [
    {
     "name": "stderr",
     "output_type": "stream",
     "text": [
      "INFO:unityagents:\n",
      "'Academy' started successfully!\n",
      "Unity Academy name: Academy\n",
      "        Number of Brains: 1\n",
      "        Number of External Brains : 1\n",
      "        Lesson number : 0\n",
      "        Reset Parameters :\n",
      "\t\t\n",
      "Unity brain name: BananaBrain\n",
      "        Number of Visual Observations (per agent): 0\n",
      "        Vector Observation space type: continuous\n",
      "        Vector Observation space size (per agent): 37\n",
      "        Number of stacked Vector Observation: 1\n",
      "        Vector Action space type: discrete\n",
      "        Vector Action space size (per agent): 4\n",
      "        Vector Action descriptions: , , , \n"
     ]
    }
   ],
   "source": [
    "from unityagents import UnityEnvironment\n",
    "import numpy as np\n",
    "\n",
    "# please do not modify the line below\n",
    "env = UnityEnvironment(file_name=\"/data/Banana_Linux_NoVis/Banana.x86_64\")"
   ]
  },
  {
   "cell_type": "markdown",
   "metadata": {},
   "source": [
    "Environments contain **_brains_** which are responsible for deciding the actions of their associated agents. Here we check for the first brain available, and set it as the default brain we will be controlling from Python."
   ]
  },
  {
   "cell_type": "code",
   "execution_count": 3,
   "metadata": {},
   "outputs": [
    {
     "name": "stdout",
     "output_type": "stream",
     "text": [
      "BananaBrain\n",
      "Unity brain name: BananaBrain\n",
      "        Number of Visual Observations (per agent): 0\n",
      "        Vector Observation space type: continuous\n",
      "        Vector Observation space size (per agent): 37\n",
      "        Number of stacked Vector Observation: 1\n",
      "        Vector Action space type: discrete\n",
      "        Vector Action space size (per agent): 4\n",
      "        Vector Action descriptions: , , , \n"
     ]
    }
   ],
   "source": [
    "# get the default brain\n",
    "brain_name = env.brain_names[0]\n",
    "print(brain_name)\n",
    "brain = env.brains[brain_name]\n",
    "brain\n",
    "print(brain)"
   ]
  },
  {
   "cell_type": "markdown",
   "metadata": {},
   "source": []
  },
  {
   "cell_type": "code",
   "execution_count": 4,
   "metadata": {},
   "outputs": [
    {
     "name": "stdout",
     "output_type": "stream",
     "text": [
      "Number of agents: 1\n",
      "Number of actions: 4\n",
      "States look like: [ 1.          0.          0.          0.          0.84408134  0.          0.\n",
      "  1.          0.          0.0748472   0.          1.          0.          0.\n",
      "  0.25755     1.          0.          0.          0.          0.74177343\n",
      "  0.          1.          0.          0.          0.25854847  0.          0.\n",
      "  1.          0.          0.09355672  0.          1.          0.          0.\n",
      "  0.31969345  0.          0.        ]\n",
      "States have length: 37\n"
     ]
    }
   ],
   "source": [
    "# reset the environment\n",
    "env_info = env.reset(train_mode=True)[brain_name]\n",
    "\n",
    "# number of agents in the environment\n",
    "print('Number of agents:', len(env_info.agents))\n",
    "\n",
    "# number of actions\n",
    "action_size = brain.vector_action_space_size\n",
    "print('Number of actions:', action_size)\n",
    "\n",
    "# examine the state space \n",
    "state = env_info.vector_observations[0]\n",
    "print('States look like:', state)\n",
    "state_size = len(state)\n",
    "print('States have length:', state_size)"
   ]
  },
  {
   "cell_type": "markdown",
   "metadata": {},
   "source": [
    "### 3. Take Random Actions in the Environment\n",
    "\n",
    "In the next code cell, you will learn how to use the Python API to control the agent and receive feedback from the environment.\n",
    "\n",
    "Note that **in this coding environment, you will not be able to watch the agent while it is training**, and you should set `train_mode=True` to restart the environment."
   ]
  },
  {
   "cell_type": "code",
   "execution_count": 5,
   "metadata": {},
   "outputs": [
    {
     "name": "stdout",
     "output_type": "stream",
     "text": [
      "Score: 0.0\n"
     ]
    }
   ],
   "source": [
    "env_info = env.reset(train_mode=True)[brain_name] # reset the environment\n",
    "state = env_info.vector_observations[0]            # get the current state\n",
    "score = 0                                          # initialize the score\n",
    "while True:\n",
    "    action = np.random.randint(action_size)        # select an action\n",
    "    #action = agent.act(state)\n",
    "    env_info = env.step(action)[brain_name]        # send the action to the environment\n",
    "    next_state = env_info.vector_observations[0]   # get the next state\n",
    "    reward = env_info.rewards[0]                   # get the reward\n",
    "    done = env_info.local_done[0]                  # see if episode has finished\n",
    "    score += reward                                # update the score\n",
    "    state = next_state                             # roll over the state to next time step\n",
    "    if done:                                       # exit loop if episode finished\n",
    "        break\n",
    "    \n",
    "print(\"Score: {}\".format(score))"
   ]
  },
  {
   "cell_type": "code",
   "execution_count": 6,
   "metadata": {},
   "outputs": [],
   "source": [
    "#DeepQLearning \n",
    "from nn_model import QDeepNetwork\n",
    "from agent import AiAgent\n",
    "\n",
    "\n",
    "\n",
    "\n",
    "\n"
   ]
  },
  {
   "cell_type": "code",
   "execution_count": 7,
   "metadata": {},
   "outputs": [],
   "source": [
    "#Reference Libraries\n",
    "import numpy as np\n",
    "from collections import deque\n",
    "import matplotlib.pyplot as plt\n",
    "%matplotlib inline\n",
    "\n",
    "import random\n",
    "import torch"
   ]
  },
  {
   "cell_type": "code",
   "execution_count": null,
   "metadata": {},
   "outputs": [],
   "source": [
    "#Test to create the instance of AiAgent\n",
    "firstAI = AiAgent(state_size=37,action_size=4,seed=17)"
   ]
  },
  {
   "cell_type": "code",
   "execution_count": 44,
   "metadata": {},
   "outputs": [],
   "source": [
    "#Train the Agent\n",
    "#Function dqn helps to calculate Agent's score when it get interacted with the Environment\n",
    "def dqn(ai_agent,num_episodes=1000, max_t=1000, eps_start=0.78, eps_end=0.0025, eps_decay=0.995):\n",
    "    \"\"\"Deep Q-Learning.\n",
    "    \n",
    "    Params\n",
    "    ======\n",
    "        n_episodes (int): maximum number of training episodes\n",
    "        max_t (int): maximum number of timesteps per episode\n",
    "        eps_start (float): starting value of epsilon, for epsilon-greedy action selection\n",
    "        eps_end (float): minimum value of epsilon\n",
    "        eps_decay (float): multiplicative factor (per episode) for decreasing epsilon\n",
    "    \"\"\"\n",
    "    \n",
    "    \n",
    "    scores = []                        # list containing scores from each episode\n",
    "    scores_window = deque(maxlen=100)  # last 100 scores\n",
    "    eps = eps_start                    # initialize epsilon\n",
    "    \n",
    "\n",
    "    for i_episode in range(1,num_episodes+1):\n",
    "        #reset the unity Env_info for each new episode\n",
    "        env_info = env.reset(train_mode=True)[brain_name]\n",
    "    \n",
    "        #set initial state \n",
    "        state = env_info.vector_observations[0]\n",
    "    \n",
    "        score = 0 \n",
    "        #Iterative run until all number of episodes done\n",
    "    \n",
    "        while True:\n",
    "            action = ai_agent.act(state,eps)\n",
    "        \n",
    "            env_info = env.step(action)[brain_name]        #Take action based on Epsilion Greedy Policy\n",
    "            next_state = env_info.vector_observations[0]   # get the next state\n",
    "            reward = env_info.rewards[0]                   # get the reward\n",
    "            done = env_info.local_done[0]                  # see if episode has finished \n",
    "            \n",
    "            ai_agent.step(state, action, reward, next_state, done)\n",
    "            \n",
    "            score += reward                                # update the score\n",
    "            state = next_state                             # roll over the state to next time step            \n",
    "            if done:                                       # exit loop if episode finished\n",
    "                break\n",
    "            \n",
    "        scores_window.append(score)       # save most recent score\n",
    "        scores.append(score)              # save most recent score\n",
    "        eps = max(eps_end, eps_decay*eps) # decrease epsilon\n",
    "        print('\\rEpisode {}\\tAverage Score: {:.2f}'.format(i_episode, np.mean(scores_window)), end=\"\")\n",
    "        if i_episode % 100 == 0:\n",
    "            print('\\rEpisode {}\\tAverage Score: {:.2f}'.format(i_episode, np.mean(scores_window)))\n",
    "        if np.mean(scores_window)>=15.0:\n",
    "            print('\\nEnvironment solved in {:d} episodes!\\tAverage Score: {:.2f}'.format(i_episode-100, np.mean(scores_window)))\n",
    "            torch.save(ai_agent.qnetwork_local.state_dict(), 'checkpointai15.pth')\n",
    "            break\n",
    "        \n",
    "    return scores      \n",
    "       "
   ]
  },
  {
   "cell_type": "code",
   "execution_count": 45,
   "metadata": {},
   "outputs": [
    {
     "name": "stdout",
     "output_type": "stream",
     "text": [
      "Episode 100\tAverage Score: 2.74\n",
      "Episode 200\tAverage Score: 8.62\n",
      "Episode 300\tAverage Score: 12.33\n",
      "Episode 400\tAverage Score: 14.09\n",
      "Episode 423\tAverage Score: 15.00\n",
      "Environment solved in 323 episodes!\tAverage Score: 15.00\n"
     ]
    }
   ],
   "source": [
    "#v9.3 -Highy score so repeat once  to get threshold 15\n",
    "firstAI1 = AiAgent(state_size=37,action_size=4,seed=24)\n",
    "\n",
    "num_episodes=500\n",
    "max_t=1000\n",
    "eps_start=0.976 \n",
    "eps_end=0.0005 \n",
    "eps_decay=0.979\n",
    "scores = dqn(firstAI1,num_episodes,max_t,eps_start,eps_end,eps_decay)"
   ]
  },
  {
   "cell_type": "code",
   "execution_count": 46,
   "metadata": {},
   "outputs": [
    {
     "data": {
      "image/png": "[encoded data removed]",
      "text/plain": [
       "<matplotlib.figure.Figure at 0x7fb56dbd0630>"
      ]
     },
     "metadata": {
      "needs_background": "light"
     },
     "output_type": "display_data"
    }
   ],
   "source": [
    "# plot the scores\n",
    "fig = plt.figure()\n",
    "ax = fig.add_subplot(111)\n",
    "plt.plot(np.arange(len(scores)), scores)\n",
    "plt.ylabel('Score')\n",
    "plt.xlabel('Episode #')\n",
    "plt.show()"
   ]
  },
  {
   "cell_type": "code",
   "execution_count": 47,
   "metadata": {},
   "outputs": [],
   "source": [
    "#Watch the train Agent perfromance\n",
    "# load the weights from file\n",
    "firstAI_trained = AiAgent(state_size=37,action_size=4,seed=24)\n",
    "firstAI_trained.qnetwork_local.load_state_dict(torch.load('checkpointai15.pth'))\n",
    "          "
   ]
  },
  {
   "cell_type": "code",
   "execution_count": 48,
   "metadata": {},
   "outputs": [
    {
     "name": "stdout",
     "output_type": "stream",
     "text": [
      "Score: 20.0\n"
     ]
    }
   ],
   "source": [
    "# Test Run score\n",
    "score = test_run_single_episode(env, brain_name, firstAI_trained)\n",
    "\n",
    "print(f'Score: {score}')"
   ]
  },
  {
   "cell_type": "code",
   "execution_count": 49,
   "metadata": {},
   "outputs": [],
   "source": [
    "env.close()"
   ]
  },
  {
   "cell_type": "markdown",
   "metadata": {},
   "source": [
    "#History - Parameter tuning "
   ]
  },
  {
   "cell_type": "code",
   "execution_count": 42,
   "metadata": {},
   "outputs": [
    {
     "name": "stdout",
     "output_type": "stream",
     "text": [
      "Episode 100\tAverage Score: 3.24\n",
      "Episode 200\tAverage Score: 9.60\n",
      "Episode 300\tAverage Score: 12.29\n",
      "Episode 400\tAverage Score: 14.63\n",
      "Episode 500\tAverage Score: 15.86\n",
      "Episode 600\tAverage Score: 15.74\n",
      "Episode 700\tAverage Score: 14.51\n",
      "Episode 800\tAverage Score: 15.05\n",
      "Episode 900\tAverage Score: 15.46\n",
      "Episode 1000\tAverage Score: 16.01\n"
     ]
    }
   ],
   "source": [
    "#v9 -Highy score so repeat once  to get threshold 17\n",
    "firstAI1 = AiAgent(state_size=37,action_size=4,seed=24)\n",
    "\n",
    "num_episodes=1000\n",
    "max_t=1000\n",
    "eps_start=0.976 \n",
    "eps_end=0.0005 \n",
    "eps_decay=0.979\n",
    "scores = dqn(firstAI1,num_episodes,max_t,eps_start,eps_end,eps_decay)"
   ]
  },
  {
   "cell_type": "code",
   "execution_count": 33,
   "metadata": {},
   "outputs": [
    {
     "name": "stdout",
     "output_type": "stream",
     "text": [
      "Episode 100\tAverage Score: 3.43\n",
      "Episode 200\tAverage Score: 10.21\n",
      "Episode 300\tAverage Score: 12.47\n",
      "Episode 365\tAverage Score: 13.00\n",
      "Environment solved in 265 episodes!\tAverage Score: 13.00\n"
     ]
    }
   ],
   "source": [
    "#v9 -Highy score so repeat once  \n",
    "firstAI1 = AiAgent(state_size=37,action_size=4,seed=24)\n",
    "\n",
    "num_episodes=1000\n",
    "max_t=1000\n",
    "eps_start=0.976 \n",
    "eps_end=0.0005 \n",
    "eps_decay=0.979\n",
    "scores = dqn(firstAI1,num_episodes,max_t,eps_start,eps_end,eps_decay)"
   ]
  },
  {
   "cell_type": "code",
   "execution_count": 31,
   "metadata": {},
   "outputs": [
    {
     "name": "stdout",
     "output_type": "stream",
     "text": [
      "Episode 100\tAverage Score: 1.39\n",
      "Episode 200\tAverage Score: 4.02\n",
      "Episode 300\tAverage Score: 5.54\n",
      "Episode 400\tAverage Score: 7.09\n",
      "Episode 500\tAverage Score: 8.82\n",
      "Episode 600\tAverage Score: 9.75\n",
      "Episode 700\tAverage Score: 10.47\n",
      "Episode 800\tAverage Score: 10.62\n",
      "Episode 900\tAverage Score: 11.94\n",
      "Episode 1000\tAverage Score: 13.41\n"
     ]
    }
   ],
   "source": [
    "#v11  Updated EveryTimeStep to 4 \n",
    "firstAI1 = AiAgent(state_size=37,action_size=4,seed=24)\n",
    "\n",
    "num_episodes=1000\n",
    "max_t=500\n",
    "eps_start=0.786 \n",
    "eps_end=0.0005 \n",
    "eps_decay=0.9979\n",
    "scores = dqn(firstAI1,num_episodes,max_t,eps_start,eps_end,eps_decay)"
   ]
  },
  {
   "cell_type": "code",
   "execution_count": 30,
   "metadata": {},
   "outputs": [
    {
     "name": "stdout",
     "output_type": "stream",
     "text": [
      "Episode 100\tAverage Score: 2.86\n",
      "Episode 200\tAverage Score: 7.62\n",
      "Episode 300\tAverage Score: 12.47\n",
      "Episode 400\tAverage Score: 14.30\n",
      "Episode 500\tAverage Score: 15.12\n",
      "Episode 600\tAverage Score: 15.50\n",
      "Episode 700\tAverage Score: 15.60\n",
      "Episode 800\tAverage Score: 15.92\n",
      "Episode 900\tAverage Score: 15.42\n",
      "Episode 1000\tAverage Score: 16.10\n"
     ]
    }
   ],
   "source": [
    "#v10  Updated EveryTimeStep to 4 \n",
    "firstAI1 = AiAgent(state_size=37,action_size=4,seed=24)\n",
    "\n",
    "num_episodes=1000\n",
    "max_t=1000\n",
    "eps_start=0.976 \n",
    "eps_end=0.0005 \n",
    "eps_decay=0.979\n",
    "scores = dqn(firstAI1,num_episodes,max_t,eps_start,eps_end,eps_decay)"
   ]
  },
  {
   "cell_type": "code",
   "execution_count": 28,
   "metadata": {},
   "outputs": [
    {
     "name": "stdout",
     "output_type": "stream",
     "text": [
      "Episode 100\tAverage Score: 3.82\n",
      "Episode 200\tAverage Score: 9.76\n",
      "Episode 300\tAverage Score: 12.39\n",
      "Episode 400\tAverage Score: 13.94\n",
      "Episode 500\tAverage Score: 15.92\n"
     ]
    }
   ],
   "source": [
    "#v9  Updated EveryTimeStep to 4 \n",
    "firstAI1 = AiAgent(state_size=37,action_size=4,seed=24)\n",
    "\n",
    "num_episodes=500\n",
    "max_t=1000\n",
    "eps_start=0.976 \n",
    "eps_end=0.0005 \n",
    "eps_decay=0.979\n",
    "scores = dqn(firstAI1,num_episodes,max_t,eps_start,eps_end,eps_decay)"
   ]
  },
  {
   "cell_type": "code",
   "execution_count": 26,
   "metadata": {},
   "outputs": [
    {
     "name": "stdout",
     "output_type": "stream",
     "text": [
      "Episode 100\tAverage Score: 3.63\n",
      "Episode 200\tAverage Score: 9.55\n",
      "Episode 300\tAverage Score: 12.56\n",
      "Episode 400\tAverage Score: 13.77\n",
      "Episode 500\tAverage Score: 15.76\n"
     ]
    }
   ],
   "source": [
    "#v7  Updated EveryTimeStep to 4 \n",
    "firstAI1 = AiAgent(state_size=37,action_size=4,seed=24)\n",
    "\n",
    "num_episodes=500\n",
    "max_t=1000\n",
    "eps_start=0.917 \n",
    "eps_end=0.0007 \n",
    "eps_decay=0.979\n",
    "scores = dqn(firstAI1,num_episodes,max_t,eps_start,eps_end,eps_decay)"
   ]
  },
  {
   "cell_type": "code",
   "execution_count": 25,
   "metadata": {},
   "outputs": [
    {
     "name": "stdout",
     "output_type": "stream",
     "text": [
      "Episode 100\tAverage Score: 4.41\n",
      "Episode 200\tAverage Score: 10.38\n",
      "Episode 300\tAverage Score: 12.97\n"
     ]
    }
   ],
   "source": [
    "#v7  Updated EveryTimeStep to 4 \n",
    "firstAI1 = AiAgent(state_size=37,action_size=4,seed=24)\n",
    "\n",
    "num_episodes=300\n",
    "max_t=1000\n",
    "eps_start=0.8217 \n",
    "eps_end=0.0027 \n",
    "eps_decay=0.979\n",
    "scores = dqn(firstAI1,num_episodes,max_t,eps_start,eps_end,eps_decay)"
   ]
  },
  {
   "cell_type": "code",
   "execution_count": 23,
   "metadata": {},
   "outputs": [
    {
     "name": "stdout",
     "output_type": "stream",
     "text": [
      "Episode 100\tAverage Score: 5.83\n",
      "Episode 200\tAverage Score: 9.66\n",
      "Episode 300\tAverage Score: 14.07\n",
      "Episode 400\tAverage Score: 15.86\n",
      "Episode 500\tAverage Score: 16.14\n",
      "Episode 600\tAverage Score: 16.67\n",
      "Episode 700\tAverage Score: 16.03\n",
      "Episode 800\tAverage Score: 16.09\n",
      "Episode 900\tAverage Score: 15.98\n",
      "Episode 1000\tAverage Score: 15.85\n"
     ]
    }
   ],
   "source": [
    "#v6  Updated EveryTimeStep to 4 \n",
    "firstAI1 = AiAgent(state_size=37,action_size=4,seed=24)\n",
    "\n",
    "num_episodes=1000\n",
    "max_t=1000\n",
    "eps_start=0.7817 \n",
    "eps_end=0.0017 \n",
    "eps_decay=0.919\n",
    "scores = dqn(firstAI1,num_episodes,max_t,eps_start,eps_end,eps_decay)"
   ]
  },
  {
   "cell_type": "code",
   "execution_count": 18,
   "metadata": {},
   "outputs": [
    {
     "name": "stdout",
     "output_type": "stream",
     "text": [
      "Episode 100\tAverage Score: 5.57\n",
      "Episode 200\tAverage Score: 10.23\n",
      "Episode 271\tAverage Score: 13.03\n",
      "Environment solved in 171 episodes!\tAverage Score: 13.03\n"
     ]
    }
   ],
   "source": [
    "#v6  Updated EveryTimeStep to 4 \n",
    "firstAI1 = AiAgent(state_size=37,action_size=4,seed=24)\n",
    "\n",
    "num_episodes=1000\n",
    "max_t=1000\n",
    "eps_start=0.7817 \n",
    "eps_end=0.0025 \n",
    "eps_decay=0.919\n",
    "scores = dqn(firstAI1,num_episodes,max_t,eps_start,eps_end,eps_decay)"
   ]
  },
  {
   "cell_type": "code",
   "execution_count": 17,
   "metadata": {},
   "outputs": [
    {
     "name": "stdout",
     "output_type": "stream",
     "text": [
      "Episode 100\tAverage Score: 1.38\n",
      "Episode 200\tAverage Score: 3.41\n",
      "Episode 300\tAverage Score: 4.86\n"
     ]
    }
   ],
   "source": [
    "#v6  Updated EveryTimeStep to 4 \n",
    "firstAI1 = AiAgent(state_size=37,action_size=4,seed=1)\n",
    "\n",
    "num_episodes=300\n",
    "max_t=1000\n",
    "eps_start=0.6917 \n",
    "eps_end=0.0015 \n",
    "eps_decay=0.999\n",
    "scores = dqn(firstAI1,num_episodes,max_t,eps_start,eps_end,eps_decay)"
   ]
  },
  {
   "cell_type": "code",
   "execution_count": 14,
   "metadata": {},
   "outputs": [
    {
     "name": "stdout",
     "output_type": "stream",
     "text": [
      "Episode 100\tAverage Score: 3.51\n",
      "Episode 200\tAverage Score: 7.57\n",
      "Episode 300\tAverage Score: 11.95\n"
     ]
    }
   ],
   "source": [
    "#v5  Updated EveryTimeStep to 4 \n",
    "firstAI1 = AiAgent(state_size=37,action_size=4,seed=1)\n",
    "\n",
    "num_episodes=300\n",
    "max_t=1000\n",
    "eps_start=0.24 \n",
    "eps_end=0.0025 \n",
    "eps_decay=0.895\n",
    "scores = dqn(firstAI1,num_episodes,max_t,eps_start,eps_end,eps_decay)"
   ]
  },
  {
   "cell_type": "code",
   "execution_count": 12,
   "metadata": {},
   "outputs": [
    {
     "name": "stdout",
     "output_type": "stream",
     "text": [
      "Episode 100\tAverage Score: 4.25\n",
      "Episode 200\tAverage Score: 9.85\n",
      "Episode 300\tAverage Score: 12.20\n"
     ]
    }
   ],
   "source": [
    "#v4  Updated EveryTimeStep to 4 \n",
    "firstAI1 = AiAgent(state_size=37,action_size=4,seed=1)\n",
    "\n",
    "num_episodes=300\n",
    "max_t=1000\n",
    "eps_start=0.60 \n",
    "eps_end=0.0025 \n",
    "eps_decay=0.895\n",
    "scores = dqn(firstAI1,num_episodes,max_t,eps_start,eps_end,eps_decay)"
   ]
  },
  {
   "cell_type": "code",
   "execution_count": 11,
   "metadata": {},
   "outputs": [
    {
     "name": "stdout",
     "output_type": "stream",
     "text": [
      "Episode 100\tAverage Score: 2.06\n",
      "Episode 200\tAverage Score: 5.41\n",
      "Episode 300\tAverage Score: 9.20\n",
      "Episode 400\tAverage Score: 10.88\n",
      "Episode 500\tAverage Score: 12.59\n",
      "Episode 600\tAverage Score: 14.00\n",
      "Episode 700\tAverage Score: 14.58\n",
      "Episode 800\tAverage Score: 16.09\n",
      "Episode 900\tAverage Score: 15.70\n",
      "Episode 1000\tAverage Score: 15.29\n"
     ]
    }
   ],
   "source": [
    "#v3  Updated EveryTimeStep to 4 and eps start .78 ep end 0.0025 seed 24\n",
    "firstAI1 = AiAgent(state_size=37,action_size=4,seed=24)\n",
    "\n",
    "scores = dqn(firstAI1)"
   ]
  },
  {
   "cell_type": "code",
   "execution_count": 10,
   "metadata": {},
   "outputs": [
    {
     "name": "stdout",
     "output_type": "stream",
     "text": [
      "Episode 100\tAverage Score: 2.10\n",
      "Episode 200\tAverage Score: 5.51\n",
      "Episode 300\tAverage Score: 8.51\n",
      "Episode 400\tAverage Score: 10.66\n",
      "Episode 500\tAverage Score: 13.58\n",
      "Episode 600\tAverage Score: 15.69\n",
      "Episode 700\tAverage Score: 15.40\n",
      "Episode 800\tAverage Score: 15.17\n",
      "Episode 900\tAverage Score: 15.70\n",
      "Episode 1000\tAverage Score: 15.63\n"
     ]
    }
   ],
   "source": [
    "#v2  Updated EveryTimeStep to 4 and eps start .78 ep end 0.0025 seed 24\n",
    "firstAI1 = AiAgent(state_size=37,action_size=4,seed=24)\n",
    "\n",
    "scores = dqn(firstAI1)"
   ]
  },
  {
   "cell_type": "code",
   "execution_count": null,
   "metadata": {},
   "outputs": [],
   "source": [
    "#v2  Updated EveryTimeStep to 4 and eps start .79 seed 24\n",
    "firstAI1 = AiAgent(state_size=37,action_size=4,seed=17)\n",
    "\n",
    "scores = dqn(firstAI1)"
   ]
  },
  {
   "cell_type": "code",
   "execution_count": 12,
   "metadata": {},
   "outputs": [
    {
     "name": "stdout",
     "output_type": "stream",
     "text": [
      "Episode 100\tAverage Score: 1.92\n",
      "Episode 200\tAverage Score: 6.68\n",
      "Episode 300\tAverage Score: 9.01\n",
      "Episode 400\tAverage Score: 11.53\n",
      "Episode 500\tAverage Score: 12.61\n"
     ]
    }
   ],
   "source": [
    "firstAI1 = AiAgent(state_size=37,action_size=4,seed=24)\n",
    "\n",
    "scores = dqn(firstAI1)"
   ]
  },
  {
   "cell_type": "code",
   "execution_count": null,
   "metadata": {},
   "outputs": [],
   "source": [
    "#v3  Updated EveryTimeStep to 4 and \n",
    "firstAI1 = AiAgent(state_size=37,action_size=4,seed=17)\n",
    "\n",
    "scores = dqn(firstAI1)"
   ]
  },
  {
   "cell_type": "code",
   "execution_count": 34,
   "metadata": {},
   "outputs": [
    {
     "data": {
      "image/png": "[encoded data removed]",
      "text/plain": [
       "<matplotlib.figure.Figure at 0x7fb570309b70>"
      ]
     },
     "metadata": {
      "needs_background": "light"
     },
     "output_type": "display_data"
    }
   ],
   "source": [
    "# plot the scores\n",
    "fig = plt.figure()\n",
    "ax = fig.add_subplot(111)\n",
    "plt.plot(np.arange(len(scores)), scores)\n",
    "plt.ylabel('Score')\n",
    "plt.xlabel('Episode #')\n",
    "plt.show()"
   ]
  },
  {
   "cell_type": "code",
   "execution_count": 35,
   "metadata": {},
   "outputs": [],
   "source": [
    "#Watch the train Agent perfromance\n",
    "# load the weights from file\n",
    "firstAI_trained = AiAgent(state_size=37,action_size=4,seed=24)\n",
    "firstAI_trained.qnetwork_local.load_state_dict(torch.load('checkpointai13.pth'))\n",
    "          "
   ]
  },
  {
   "cell_type": "code",
   "execution_count": 36,
   "metadata": {},
   "outputs": [],
   "source": [
    "def test_run_single_episode (env: UnityEnvironment,brain_name, ai_agent:AiAgent=None,max_t=1000,epsl=0.,train_mode=False):\n",
    "    \"\"\"Input env|agent|number of steps|test mode\n",
    "       Output Agent score\n",
    "    \n",
    "    \"\"\"\n",
    "    env_info = env.reset(train_mode=train_mode)[brain_name]\n",
    "    action_size = env.brains[brain_name].vector_action_space_size\n",
    "    state = env_info.vector_observations[0]\n",
    "    \n",
    "    #initial the score \n",
    "    score =0\n",
    "    \n",
    "    #Run each step in the episode\n",
    "    for _ in range (max_t):\n",
    "        action = ai_agent.act(state,epsl) if ai_agent else np.random.randint(action_size)\n",
    "        \n",
    "        #lets make the agent take the action \n",
    "        env_info = env.step(action)[brain_name]\n",
    "        \n",
    "        #get the next state 'St+1'\n",
    "        next_state = env_info.vector_observations[0]\n",
    "        reward = env_info.rewards[0]\n",
    "        done = env_info.local_done[0]\n",
    "        \n",
    "        if ai_agent and train_mode: #Train mode is True then make the agent learn\n",
    "            ai_agent.step(state, action, reward, next_state, done)\n",
    "        \n",
    "        state = next_state\n",
    "        score += reward\n",
    "        if done:\n",
    "            break\n",
    "    return score\n",
    "        \n",
    "            "
   ]
  },
  {
   "cell_type": "code",
   "execution_count": 38,
   "metadata": {},
   "outputs": [
    {
     "name": "stdout",
     "output_type": "stream",
     "text": [
      "Score: 12.0\n"
     ]
    }
   ],
   "source": [
    "# Test Run score\n",
    "score = test_run_single_episode(env, brain_name, firstAI_trained)\n",
    "\n",
    "print(f'Score: {score}')  \n"
   ]
  },
  {
   "cell_type": "code",
   "execution_count": 40,
   "metadata": {},
   "outputs": [
    {
     "name": "stdout",
     "output_type": "stream",
     "text": [
      "Score: 16.0\n"
     ]
    }
   ],
   "source": [
    "# Test Run score\n",
    "score = test_run_single_episode(env, brain_name, firstAI_trained)\n",
    "\n",
    "print(f'Score: {score}')"
   ]
  },
  {
   "cell_type": "markdown",
   "metadata": {},
   "source": [
    "When finished, you can close the environment."
   ]
  },
  {
   "cell_type": "code",
   "execution_count": null,
   "metadata": {},
   "outputs": [],
   "source": [
    "env.close()"
   ]
  },
  {
   "cell_type": "markdown",
   "metadata": {},
   "source": [
    "### 4. It's Your Turn!\n",
    "\n",
    "Now it's your turn to train your own agent to solve the environment!  A few **important notes**:\n",
    "- When training the environment, set `train_mode=True`, so that the line for resetting the environment looks like the following:\n",
    "```python\n",
    "env_info = env.reset(train_mode=True)[brain_name]\n",
    "```\n",
    "- To structure your work, you're welcome to work directly in this Jupyter notebook, or you might like to start over with a new file!  You can see the list of files in the workspace by clicking on **_Jupyter_** in the top left corner of the notebook.\n",
    "- In this coding environment, you will not be able to watch the agent while it is training.  However, **_after training the agent_**, you can download the saved model weights to watch the agent on your own machine! "
   ]
  }
 ],
 "metadata": {
  "kernelspec": {
   "display_name": "Python 3",
   "language": "python",
   "name": "python3"
  },
  "language_info": {
   "codemirror_mode": {
    "name": "ipython",
    "version": 3
   },
   "file_extension": ".py",
   "mimetype": "text/x-python",
   "name": "python",
   "nbconvert_exporter": "python",
   "pygments_lexer": "ipython3",
   "version": "3.6.3"
  }
 },
 "nbformat": 4,
 "nbformat_minor": 2
}
