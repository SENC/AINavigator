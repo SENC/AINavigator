
#Train the Agent

firstAI = AiAgent(state_size=37,action_size=4,random_seed=17)


for i_episode in range(1,num_episodes+1):
    #reset the unity Env_info for each new episode
    env_info = env.reset(train_mode=True)[brain_name]
    
    #set initial state 
    state = env_info.vector_observations[0]
    
    score = 0 
    #Iterative run until all number of episodes done
    
    while True:
        action = firstAI.act(state)
        
        env_info = env.step(action)[brain_name]
        next_state = env_info.vector_observations[0]   # get the next state
        reward = env_info.rewards[0]                   # get the reward
        done = env_info.local_done[0]                  # see if episode has finished
        score += reward                                # update the score
        state = next_state                             # roll over the state to next time step
        if done:                                       # exit loop if episode finished
            break
    
print("Score: {}".format(score))
